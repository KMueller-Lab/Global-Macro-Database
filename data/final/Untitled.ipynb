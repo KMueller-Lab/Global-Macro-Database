{
 "cells": [
  {
   "cell_type": "code",
   "execution_count": 33,
   "id": "1af6e149-826c-4cb8-8226-5e14bd1a2380",
   "metadata": {},
   "outputs": [],
   "source": [
    "import pandas as pd\n",
    "df = pd.read_stata('chainlinked_impoorts.dta')"
   ]
  },
  {
   "cell_type": "code",
   "execution_count": 35,
   "id": "bf9684b7-940c-4ce2-a5ef-1d94958380d1",
   "metadata": {},
   "outputs": [],
   "source": [
    "df.to_csv(\"govdef_GDP1.csv\", index = False)"
   ]
  },
  {
   "cell_type": "code",
   "execution_count": 2,
   "id": "a66ccfc4-beb3-411a-b3fa-73b0506e98d4",
   "metadata": {},
   "outputs": [
    {
     "data": {
      "text/plain": [
       "'C:\\\\Users\\\\lehbib\\\\Documents\\\\GitHub\\\\Global-Macro-Database\\\\data\\\\final'"
      ]
     },
     "execution_count": 2,
     "metadata": {},
     "output_type": "execute_result"
    }
   ],
   "source": [
    "print(df.loc[df['year'] == 1810, divide_cols])"
   ]
  },
  {
   "cell_type": "code",
   "execution_count": 25,
   "id": "bc3b0bfb-a2e1-455e-b500-9af7583e8a1d",
   "metadata": {},
   "outputs": [
    {
     "name": "stdout",
     "output_type": "stream",
     "text": [
      "     govdef_GDP  CS2_govdef_GDP\n",
      "865     0.20867        7.115948\n"
     ]
    }
   ],
   "source": [
    "row = df.loc[(df['year'] == 1810)& (df['ISO3'] == \"USA\")]\n",
    "print(row[['govdef_GDP', 'CS2_govdef_GDP']])"
   ]
  },
  {
   "cell_type": "code",
   "execution_count": 17,
   "id": "08480c61-746b-4b45-91a6-cb3e7879f529",
   "metadata": {},
   "outputs": [
    {
     "name": "stdout",
     "output_type": "stream",
     "text": [
      "     ADB_govdef_GDP  AFDB_govdef_GDP  AMF_govdef_GDP  BCEAO_govdef_GDP  \\\n",
      "865             NaN              NaN             NaN               NaN   \n",
      "\n",
      "     CEPAC_govdef_GDP  EUS_govdef_GDP  FRANC_ZONE_govdef_GDP  FZ_govdef_GDP  \\\n",
      "865               NaN             NaN                    NaN            NaN   \n",
      "\n",
      "     IMF_FPP_govdef_GDP  IMF_GFS_govdef_GDP  IMF_WEO_govdef_GDP  \\\n",
      "865                 1.0                 NaN                 NaN   \n",
      "\n",
      "     Mitchell_govdef_GDP  OECD_EO_govdef_GDP  CS2_govdef_GDP  CS1_govdef_GDP  \n",
      "865            -0.978011                 NaN        7.115948             NaN  \n"
     ]
    }
   ],
   "source": [
    "print(df.loc[(df['year'] == 1810)& (df['ISO3'] == \"USA\"), divide_cols])"
   ]
  },
  {
   "cell_type": "code",
   "execution_count": 29,
   "id": "7f834397-b65f-469c-84f8-6f001bcdb4de",
   "metadata": {},
   "outputs": [],
   "source": [
    "import pandas as pd\n",
    "df = pd.read_stata('chainlinked_govdef_GDP.dta')\n",
    "df['check'] = \"\"\n",
    "exclude = ['ISO3', 'year', 'chainlinking_ratio', 'source', 'source_change', 'check', 'govdef_GDP']\n",
    "divide_cols = [col for col in df.columns if col not in exclude]\n",
    "df[divide_cols] = df[divide_cols].div(df['govdef_GDP'], axis=0)\n",
    "condition = (abs(df[divide_cols]) > 5) | (abs(df[divide_cols]) < 0.2)\n",
    "df['check'] = condition.any(axis=1).astype(int)\n",
    "df.loc[df['check'] == 1, ['ISO3','year', 'check']]\n",
    "\n",
    "# Export df to csv \n",
    "df.to_csv('chainlinked_govdef_GDP.csv', index=False)"
   ]
  },
  {
   "cell_type": "code",
   "execution_count": 32,
   "id": "238d436c-0690-4950-acab-e98a7be6b3a6",
   "metadata": {
    "scrolled": true
   },
   "outputs": [
    {
     "ename": "TypeError",
     "evalue": "only integer scalar arrays can be converted to a scalar index",
     "output_type": "error",
     "traceback": [
      "\u001b[1;31m---------------------------------------------------------------------------\u001b[0m",
      "\u001b[1;31mTypeError\u001b[0m                                 Traceback (most recent call last)",
      "Cell \u001b[1;32mIn[32], line 31\u001b[0m\n\u001b[0;32m     28\u001b[0m df[\u001b[38;5;124m\"\u001b[39m\u001b[38;5;124mcheck\u001b[39m\u001b[38;5;124m\"\u001b[39m] \u001b[38;5;241m=\u001b[39m mask\u001b[38;5;241m.\u001b[39many(axis\u001b[38;5;241m=\u001b[39m\u001b[38;5;241m1\u001b[39m)\u001b[38;5;241m.\u001b[39mastype(\u001b[38;5;124m\"\u001b[39m\u001b[38;5;124mint8\u001b[39m\u001b[38;5;124m\"\u001b[39m)\n\u001b[0;32m     30\u001b[0m \u001b[38;5;66;03m# B. (optional) list the culprit columns, makes debugging trivial\u001b[39;00m\n\u001b[1;32m---> 31\u001b[0m df[\u001b[38;5;124m\"\u001b[39m\u001b[38;5;124mcheck_cols\u001b[39m\u001b[38;5;124m\"\u001b[39m] \u001b[38;5;241m=\u001b[39m \u001b[43mmask\u001b[49m\u001b[38;5;241;43m.\u001b[39;49m\u001b[43mapply\u001b[49m\u001b[43m(\u001b[49m\n\u001b[0;32m     32\u001b[0m \u001b[43m    \u001b[49m\u001b[38;5;28;43;01mlambda\u001b[39;49;00m\u001b[43m \u001b[49m\u001b[43mrow\u001b[49m\u001b[43m:\u001b[49m\u001b[43m \u001b[49m\u001b[38;5;124;43m\"\u001b[39;49m\u001b[38;5;124;43m, \u001b[39;49m\u001b[38;5;124;43m\"\u001b[39;49m\u001b[38;5;241;43m.\u001b[39;49m\u001b[43mjoin\u001b[49m\u001b[43m(\u001b[49m\u001b[43mratio_cols\u001b[49m\u001b[43m[\u001b[49m\u001b[43mrow\u001b[49m\u001b[38;5;241;43m.\u001b[39;49m\u001b[43mvalues\u001b[49m\u001b[43m]\u001b[49m\u001b[43m)\u001b[49m\u001b[43m \u001b[49m\u001b[38;5;28;43;01mif\u001b[39;49;00m\u001b[43m \u001b[49m\u001b[43mrow\u001b[49m\u001b[38;5;241;43m.\u001b[39;49m\u001b[43many\u001b[49m\u001b[43m(\u001b[49m\u001b[43m)\u001b[49m\u001b[43m \u001b[49m\u001b[38;5;28;43;01melse\u001b[39;49;00m\u001b[43m \u001b[49m\u001b[38;5;124;43m\"\u001b[39;49m\u001b[38;5;124;43m\"\u001b[39;49m\u001b[43m,\u001b[49m\u001b[43m \u001b[49m\u001b[43maxis\u001b[49m\u001b[38;5;241;43m=\u001b[39;49m\u001b[38;5;241;43m1\u001b[39;49m\n\u001b[0;32m     33\u001b[0m \u001b[43m)\u001b[49m\n\u001b[0;32m     35\u001b[0m \u001b[38;5;66;03m# -------------------------------------------------------------\u001b[39;00m\n\u001b[0;32m     36\u001b[0m \u001b[38;5;66;03m# 5. Save or inspect\u001b[39;00m\n\u001b[0;32m     37\u001b[0m \u001b[38;5;66;03m# -------------------------------------------------------------\u001b[39;00m\n\u001b[0;32m     38\u001b[0m df\u001b[38;5;241m.\u001b[39mto_csv(\u001b[38;5;124m\"\u001b[39m\u001b[38;5;124mchainlinked_govdef_GDP_flagged.csv\u001b[39m\u001b[38;5;124m\"\u001b[39m, index\u001b[38;5;241m=\u001b[39m\u001b[38;5;28;01mFalse\u001b[39;00m)\n",
      "File \u001b[1;32m~\\AppData\\Roaming\\Python\\Python312\\site-packages\\pandas\\core\\frame.py:10374\u001b[0m, in \u001b[0;36mDataFrame.apply\u001b[1;34m(self, func, axis, raw, result_type, args, by_row, engine, engine_kwargs, **kwargs)\u001b[0m\n\u001b[0;32m  10360\u001b[0m \u001b[38;5;28;01mfrom\u001b[39;00m \u001b[38;5;21;01mpandas\u001b[39;00m\u001b[38;5;21;01m.\u001b[39;00m\u001b[38;5;21;01mcore\u001b[39;00m\u001b[38;5;21;01m.\u001b[39;00m\u001b[38;5;21;01mapply\u001b[39;00m \u001b[38;5;28;01mimport\u001b[39;00m frame_apply\n\u001b[0;32m  10362\u001b[0m op \u001b[38;5;241m=\u001b[39m frame_apply(\n\u001b[0;32m  10363\u001b[0m     \u001b[38;5;28mself\u001b[39m,\n\u001b[0;32m  10364\u001b[0m     func\u001b[38;5;241m=\u001b[39mfunc,\n\u001b[1;32m   (...)\u001b[0m\n\u001b[0;32m  10372\u001b[0m     kwargs\u001b[38;5;241m=\u001b[39mkwargs,\n\u001b[0;32m  10373\u001b[0m )\n\u001b[1;32m> 10374\u001b[0m \u001b[38;5;28;01mreturn\u001b[39;00m \u001b[43mop\u001b[49m\u001b[38;5;241;43m.\u001b[39;49m\u001b[43mapply\u001b[49m\u001b[43m(\u001b[49m\u001b[43m)\u001b[49m\u001b[38;5;241m.\u001b[39m__finalize__(\u001b[38;5;28mself\u001b[39m, method\u001b[38;5;241m=\u001b[39m\u001b[38;5;124m\"\u001b[39m\u001b[38;5;124mapply\u001b[39m\u001b[38;5;124m\"\u001b[39m)\n",
      "File \u001b[1;32m~\\AppData\\Roaming\\Python\\Python312\\site-packages\\pandas\\core\\apply.py:916\u001b[0m, in \u001b[0;36mFrameApply.apply\u001b[1;34m(self)\u001b[0m\n\u001b[0;32m    913\u001b[0m \u001b[38;5;28;01melif\u001b[39;00m \u001b[38;5;28mself\u001b[39m\u001b[38;5;241m.\u001b[39mraw:\n\u001b[0;32m    914\u001b[0m     \u001b[38;5;28;01mreturn\u001b[39;00m \u001b[38;5;28mself\u001b[39m\u001b[38;5;241m.\u001b[39mapply_raw(engine\u001b[38;5;241m=\u001b[39m\u001b[38;5;28mself\u001b[39m\u001b[38;5;241m.\u001b[39mengine, engine_kwargs\u001b[38;5;241m=\u001b[39m\u001b[38;5;28mself\u001b[39m\u001b[38;5;241m.\u001b[39mengine_kwargs)\n\u001b[1;32m--> 916\u001b[0m \u001b[38;5;28;01mreturn\u001b[39;00m \u001b[38;5;28;43mself\u001b[39;49m\u001b[38;5;241;43m.\u001b[39;49m\u001b[43mapply_standard\u001b[49m\u001b[43m(\u001b[49m\u001b[43m)\u001b[49m\n",
      "File \u001b[1;32m~\\AppData\\Roaming\\Python\\Python312\\site-packages\\pandas\\core\\apply.py:1063\u001b[0m, in \u001b[0;36mFrameApply.apply_standard\u001b[1;34m(self)\u001b[0m\n\u001b[0;32m   1061\u001b[0m \u001b[38;5;28;01mdef\u001b[39;00m \u001b[38;5;21mapply_standard\u001b[39m(\u001b[38;5;28mself\u001b[39m):\n\u001b[0;32m   1062\u001b[0m     \u001b[38;5;28;01mif\u001b[39;00m \u001b[38;5;28mself\u001b[39m\u001b[38;5;241m.\u001b[39mengine \u001b[38;5;241m==\u001b[39m \u001b[38;5;124m\"\u001b[39m\u001b[38;5;124mpython\u001b[39m\u001b[38;5;124m\"\u001b[39m:\n\u001b[1;32m-> 1063\u001b[0m         results, res_index \u001b[38;5;241m=\u001b[39m \u001b[38;5;28;43mself\u001b[39;49m\u001b[38;5;241;43m.\u001b[39;49m\u001b[43mapply_series_generator\u001b[49m\u001b[43m(\u001b[49m\u001b[43m)\u001b[49m\n\u001b[0;32m   1064\u001b[0m     \u001b[38;5;28;01melse\u001b[39;00m:\n\u001b[0;32m   1065\u001b[0m         results, res_index \u001b[38;5;241m=\u001b[39m \u001b[38;5;28mself\u001b[39m\u001b[38;5;241m.\u001b[39mapply_series_numba()\n",
      "File \u001b[1;32m~\\AppData\\Roaming\\Python\\Python312\\site-packages\\pandas\\core\\apply.py:1081\u001b[0m, in \u001b[0;36mFrameApply.apply_series_generator\u001b[1;34m(self)\u001b[0m\n\u001b[0;32m   1078\u001b[0m \u001b[38;5;28;01mwith\u001b[39;00m option_context(\u001b[38;5;124m\"\u001b[39m\u001b[38;5;124mmode.chained_assignment\u001b[39m\u001b[38;5;124m\"\u001b[39m, \u001b[38;5;28;01mNone\u001b[39;00m):\n\u001b[0;32m   1079\u001b[0m     \u001b[38;5;28;01mfor\u001b[39;00m i, v \u001b[38;5;129;01min\u001b[39;00m \u001b[38;5;28menumerate\u001b[39m(series_gen):\n\u001b[0;32m   1080\u001b[0m         \u001b[38;5;66;03m# ignore SettingWithCopy here in case the user mutates\u001b[39;00m\n\u001b[1;32m-> 1081\u001b[0m         results[i] \u001b[38;5;241m=\u001b[39m \u001b[38;5;28;43mself\u001b[39;49m\u001b[38;5;241;43m.\u001b[39;49m\u001b[43mfunc\u001b[49m\u001b[43m(\u001b[49m\u001b[43mv\u001b[49m\u001b[43m,\u001b[49m\u001b[43m \u001b[49m\u001b[38;5;241;43m*\u001b[39;49m\u001b[38;5;28;43mself\u001b[39;49m\u001b[38;5;241;43m.\u001b[39;49m\u001b[43margs\u001b[49m\u001b[43m,\u001b[49m\u001b[43m \u001b[49m\u001b[38;5;241;43m*\u001b[39;49m\u001b[38;5;241;43m*\u001b[39;49m\u001b[38;5;28;43mself\u001b[39;49m\u001b[38;5;241;43m.\u001b[39;49m\u001b[43mkwargs\u001b[49m\u001b[43m)\u001b[49m\n\u001b[0;32m   1082\u001b[0m         \u001b[38;5;28;01mif\u001b[39;00m \u001b[38;5;28misinstance\u001b[39m(results[i], ABCSeries):\n\u001b[0;32m   1083\u001b[0m             \u001b[38;5;66;03m# If we have a view on v, we need to make a copy because\u001b[39;00m\n\u001b[0;32m   1084\u001b[0m             \u001b[38;5;66;03m#  series_generator will swap out the underlying data\u001b[39;00m\n\u001b[0;32m   1085\u001b[0m             results[i] \u001b[38;5;241m=\u001b[39m results[i]\u001b[38;5;241m.\u001b[39mcopy(deep\u001b[38;5;241m=\u001b[39m\u001b[38;5;28;01mFalse\u001b[39;00m)\n",
      "Cell \u001b[1;32mIn[32], line 32\u001b[0m, in \u001b[0;36m<lambda>\u001b[1;34m(row)\u001b[0m\n\u001b[0;32m     28\u001b[0m df[\u001b[38;5;124m\"\u001b[39m\u001b[38;5;124mcheck\u001b[39m\u001b[38;5;124m\"\u001b[39m] \u001b[38;5;241m=\u001b[39m mask\u001b[38;5;241m.\u001b[39many(axis\u001b[38;5;241m=\u001b[39m\u001b[38;5;241m1\u001b[39m)\u001b[38;5;241m.\u001b[39mastype(\u001b[38;5;124m\"\u001b[39m\u001b[38;5;124mint8\u001b[39m\u001b[38;5;124m\"\u001b[39m)\n\u001b[0;32m     30\u001b[0m \u001b[38;5;66;03m# B. (optional) list the culprit columns, makes debugging trivial\u001b[39;00m\n\u001b[0;32m     31\u001b[0m df[\u001b[38;5;124m\"\u001b[39m\u001b[38;5;124mcheck_cols\u001b[39m\u001b[38;5;124m\"\u001b[39m] \u001b[38;5;241m=\u001b[39m mask\u001b[38;5;241m.\u001b[39mapply(\n\u001b[1;32m---> 32\u001b[0m     \u001b[38;5;28;01mlambda\u001b[39;00m row: \u001b[38;5;124m\"\u001b[39m\u001b[38;5;124m, \u001b[39m\u001b[38;5;124m\"\u001b[39m\u001b[38;5;241m.\u001b[39mjoin(\u001b[43mratio_cols\u001b[49m\u001b[43m[\u001b[49m\u001b[43mrow\u001b[49m\u001b[38;5;241;43m.\u001b[39;49m\u001b[43mvalues\u001b[49m\u001b[43m]\u001b[49m) \u001b[38;5;28;01mif\u001b[39;00m row\u001b[38;5;241m.\u001b[39many() \u001b[38;5;28;01melse\u001b[39;00m \u001b[38;5;124m\"\u001b[39m\u001b[38;5;124m\"\u001b[39m, axis\u001b[38;5;241m=\u001b[39m\u001b[38;5;241m1\u001b[39m\n\u001b[0;32m     33\u001b[0m )\n\u001b[0;32m     35\u001b[0m \u001b[38;5;66;03m# -------------------------------------------------------------\u001b[39;00m\n\u001b[0;32m     36\u001b[0m \u001b[38;5;66;03m# 5. Save or inspect\u001b[39;00m\n\u001b[0;32m     37\u001b[0m \u001b[38;5;66;03m# -------------------------------------------------------------\u001b[39;00m\n\u001b[0;32m     38\u001b[0m df\u001b[38;5;241m.\u001b[39mto_csv(\u001b[38;5;124m\"\u001b[39m\u001b[38;5;124mchainlinked_govdef_GDP_flagged.csv\u001b[39m\u001b[38;5;124m\"\u001b[39m, index\u001b[38;5;241m=\u001b[39m\u001b[38;5;28;01mFalse\u001b[39;00m)\n",
      "\u001b[1;31mTypeError\u001b[0m: only integer scalar arrays can be converted to a scalar index"
     ]
    }
   ],
   "source": [
    "import pandas as pd\n",
    "\n",
    "# -------------------------------------------------------------\n",
    "# 1. Read a *fresh* copy of the file\n",
    "# -------------------------------------------------------------\n",
    "df = pd.read_stata(\"chainlinked_govdef_GDP.dta\")\n",
    "\n",
    "# -------------------------------------------------------------\n",
    "# 2. Which columns should be divided by govdef_GDP?\n",
    "#    Rule:  end with \"_govdef_GDP\"  but are *not* \"govdef_GDP\"\n",
    "# -------------------------------------------------------------\n",
    "ratio_cols = [\n",
    "    c for c in df.columns if c.endswith(\"_govdef_GDP\") and c != \"govdef_GDP\"\n",
    "]\n",
    "\n",
    "# -------------------------------------------------------------\n",
    "# 3. Calculate the ratios in a **separate** DataFrame\n",
    "# -------------------------------------------------------------\n",
    "ratio = df[ratio_cols].div(df[\"govdef_GDP\"], axis=0)\n",
    "\n",
    "# -------------------------------------------------------------\n",
    "# 4. Find the outliers\n",
    "#    |x| < 0.2  OR  |x| > 5\n",
    "# -------------------------------------------------------------\n",
    "mask = (ratio.abs() < 0.2) | (ratio.abs() > 5)\n",
    "\n",
    "# A. 0/1 flag\n",
    "df[\"check\"] = mask.any(axis=1).astype(\"int8\")\n",
    "\n",
    "# B. (optional) list the culprit columns, makes debugging trivial\n",
    "df[\"check_cols\"] = mask.apply(\n",
    "    lambda row: \", \".join(ratio_cols[row.values]) if row.any() else \"\", axis=1\n",
    ")\n",
    "\n",
    "# -------------------------------------------------------------\n",
    "# 5. Save or inspect\n",
    "# -------------------------------------------------------------\n",
    "df.to_csv(\"chainlinked_govdef_GDP_flagged.csv\", index=False)\n",
    "\n",
    "# Show only rows that failed, together with the reason\n",
    "print(\n",
    "    df.loc[df[\"check\"] == 1, [\"ISO3\", \"year\", \"check\", \"check_cols\"]]\n",
    ")"
   ]
  },
  {
   "cell_type": "code",
   "execution_count": 33,
   "id": "37408448-e59a-41f7-9c6e-b5eab8ae423a",
   "metadata": {},
   "outputs": [
    {
     "name": "stdout",
     "output_type": "stream",
     "text": [
      "      ISO3    year  check                               check_cols\n",
      "10     ZWE  2019.0      1                          AFDB_govdef_GDP\n",
      "17     ZWE  2012.0      1                          AFDB_govdef_GDP\n",
      "129    ZMB  2006.0      1                          AFDB_govdef_GDP\n",
      "180    ZAF  2005.0      1  Mitchell_govdef_GDP, OECD_EO_govdef_GDP\n",
      "196    ZAF  1989.0      1                           CS1_govdef_GDP\n",
      "...    ...     ...    ...                                      ...\n",
      "14408  AGO  2004.0      1                       IMF_GFS_govdef_GDP\n",
      "14412  AGO  2000.0      1                       IMF_GFS_govdef_GDP\n",
      "14415  AGO  1997.0      1                          AFDB_govdef_GDP\n",
      "14443  AFG  2013.0      1                           ADB_govdef_GDP\n",
      "14447  AFG  2009.0      1       ADB_govdef_GDP, IMF_GFS_govdef_GDP\n",
      "\n",
      "[1627 rows x 4 columns]\n"
     ]
    }
   ],
   "source": [
    "import pandas as pd\n",
    "import numpy as np\n",
    "\n",
    "\n",
    "def flag_outliers(\n",
    "    path_in: str = \"chainlinked_govdef_GDP.dta\",\n",
    "    path_out: str | None = \"chainlinked_govdef_GDP_flagged.csv\",\n",
    ") -> pd.DataFrame:\n",
    "    \"\"\"\n",
    "    Read the Stata file, flag rows whose ratios are outside [0.2, 5],\n",
    "    store the culprit columns, and optionally write a CSV.\n",
    "\n",
    "    Returns the flagged DataFrame.\n",
    "    \"\"\"\n",
    "    # --------------------------------------------------------- #\n",
    "    # 1. Always start from a FRESH copy of the data on disk      #\n",
    "    # --------------------------------------------------------- #\n",
    "    df = pd.read_stata(path_in)\n",
    "\n",
    "    # --------------------------------------------------------- #\n",
    "    # 2. Columns whose names end with '_govdef_GDP' (except the  #\n",
    "    #    denominator itself) are the ones we want to test        #\n",
    "    # --------------------------------------------------------- #\n",
    "    ratio_cols = [\n",
    "        c for c in df.columns if c.endswith(\"_govdef_GDP\") and c != \"govdef_GDP\"\n",
    "    ]\n",
    "\n",
    "    # --------------------------------------------------------- #\n",
    "    # 3. Compute the ratios in a SEPARATE object                 #\n",
    "    # --------------------------------------------------------- #\n",
    "    ratio = df[ratio_cols].div(df[\"govdef_GDP\"], axis=0)\n",
    "\n",
    "    # --------------------------------------------------------- #\n",
    "    # 4. Out-of-band if |x| < 0.2 or |x| > 5                     #\n",
    "    # --------------------------------------------------------- #\n",
    "    mask = (ratio.abs() < 0.2) | (ratio.abs() > 5)\n",
    "\n",
    "    # A) 0 / 1 flag\n",
    "    df[\"check\"] = mask.any(axis=1).astype(\"int8\")\n",
    "\n",
    "    # B) names of the columns that triggered the flag\n",
    "    #    (row.index is a Pandas Index → Boolean masking works)\n",
    "    df[\"check_cols\"] = mask.apply(\n",
    "        lambda r: \", \".join(r.index[r]) if r.any() else \"\", axis=1\n",
    "    )\n",
    "\n",
    "    # --------------------------------------------------------- #\n",
    "    # 5. Persist, if requested                                   #\n",
    "    # --------------------------------------------------------- #\n",
    "    if path_out is not None:\n",
    "        df.to_csv(path_out, index=False)\n",
    "\n",
    "    return df\n",
    "\n",
    "\n",
    "# ------------------------------------------------------------------\n",
    "# Example: run the function and inspect the failures\n",
    "# ------------------------------------------------------------------\n",
    "if __name__ == \"__main__\":\n",
    "    flagged = flag_outliers()\n",
    "\n",
    "    # Show only the “problem” rows and why they failed\n",
    "    cols_to_show = [\"ISO3\", \"year\", \"check\", \"check_cols\"]\n",
    "    print(flagged.loc[flagged[\"check\"] == 1, cols_to_show])"
   ]
  }
 ],
 "metadata": {
  "kernelspec": {
   "display_name": "Python 3 (ipykernel)",
   "language": "python",
   "name": "python3"
  },
  "language_info": {
   "codemirror_mode": {
    "name": "ipython",
    "version": 3
   },
   "file_extension": ".py",
   "mimetype": "text/x-python",
   "name": "python",
   "nbconvert_exporter": "python",
   "pygments_lexer": "ipython3",
   "version": "3.12.2"
  }
 },
 "nbformat": 4,
 "nbformat_minor": 5
}
